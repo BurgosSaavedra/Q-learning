{
 "cells": [
  {
   "cell_type": "markdown",
   "metadata": {},
   "source": [
    "**1. Try a number of games**"
   ]
  },
  {
   "cell_type": "code",
   "execution_count": 81,
   "metadata": {},
   "outputs": [
    {
     "name": "stdout",
     "output_type": "stream",
     "text": [
      "Finish game number: 1\n",
      "Finish game number: 2\n",
      "Finish all the games.\n"
     ]
    }
   ],
   "source": [
    "import gymnasium as gym\n",
    "import time\n",
    "\n",
    "env = gym.make(\"FrozenLake-v1\", render_mode=\"human\")\n",
    "observation, info = env.reset()\n",
    "i = 0\n",
    "\n",
    "while i < 2:\n",
    "   action = env.action_space.sample()  # this is where you would insert your policy\n",
    "   observation, reward, terminated, truncated, info = env.step(action)\n",
    "\n",
    "   time.sleep(1)\n",
    "\n",
    "   if terminated or truncated:\n",
    "      observation, info = env.reset()\n",
    "      i += 1\n",
    "      print(f\"Finish game number: {i}\")\n",
    "\n",
    "env.close()\n",
    "\n",
    "print(\"Finish all the games.\")"
   ]
  },
  {
   "cell_type": "markdown",
   "metadata": {},
   "source": [
    "**2. Training**"
   ]
  },
  {
   "cell_type": "code",
   "execution_count": 82,
   "metadata": {},
   "outputs": [],
   "source": [
    "import numpy as np\n",
    "import gymnasium as gym"
   ]
  },
  {
   "cell_type": "code",
   "execution_count": 83,
   "metadata": {},
   "outputs": [],
   "source": [
    "#env = gym.make(\"FrozenLake-v1\", render_mode=\"human\")\n",
    "env = gym.make(\"FrozenLake-v1\")\n",
    "n_observations = env.observation_space.n\n",
    "n_actions = env.action_space.n"
   ]
  },
  {
   "cell_type": "code",
   "execution_count": 84,
   "metadata": {},
   "outputs": [
    {
     "data": {
      "text/plain": [
       "array([[0., 0., 0., 0.],\n",
       "       [0., 0., 0., 0.],\n",
       "       [0., 0., 0., 0.],\n",
       "       [0., 0., 0., 0.],\n",
       "       [0., 0., 0., 0.],\n",
       "       [0., 0., 0., 0.],\n",
       "       [0., 0., 0., 0.],\n",
       "       [0., 0., 0., 0.],\n",
       "       [0., 0., 0., 0.],\n",
       "       [0., 0., 0., 0.],\n",
       "       [0., 0., 0., 0.],\n",
       "       [0., 0., 0., 0.],\n",
       "       [0., 0., 0., 0.],\n",
       "       [0., 0., 0., 0.],\n",
       "       [0., 0., 0., 0.],\n",
       "       [0., 0., 0., 0.]])"
      ]
     },
     "execution_count": 84,
     "metadata": {},
     "output_type": "execute_result"
    }
   ],
   "source": [
    "# Initialize the Q-table to 0\n",
    "\n",
    "Q_table = np.zeros((n_observations,n_actions))\n",
    "Q_table"
   ]
  },
  {
   "cell_type": "markdown",
   "metadata": {},
   "source": [
    "**Define the parameters and hyperparameters**"
   ]
  },
  {
   "cell_type": "code",
   "execution_count": 85,
   "metadata": {},
   "outputs": [],
   "source": [
    "# number of episode we will run\n",
    "n_episodes = 10000\n",
    "\n",
    "# maximum of iteration per episode\n",
    "max_iter_episode = 100\n",
    "\n",
    "# initialize the exploration probability to 1\n",
    "exploration_proba = 1\n",
    "\n",
    "# exploration decreasing decay for exponential decreasing\n",
    "exploration_decreasing_decay = 0.001\n",
    "\n",
    "# minimum of exploration proba\n",
    "min_exploration_proba = 0.01\n",
    "\n",
    "# discounted factor\n",
    "gamma = 0.99\n",
    "\n",
    "# learning rate\n",
    "lr = 0.1"
   ]
  },
  {
   "cell_type": "markdown",
   "metadata": {},
   "source": [
    "To evaluate the agent training, let's save the total rewards he gets from the environment"
   ]
  },
  {
   "cell_type": "code",
   "execution_count": 86,
   "metadata": {},
   "outputs": [],
   "source": [
    "rewards_per_episode = list()"
   ]
  },
  {
   "cell_type": "markdown",
   "metadata": {},
   "source": [
    "**Main Loop**"
   ]
  },
  {
   "cell_type": "code",
   "execution_count": 87,
   "metadata": {},
   "outputs": [],
   "source": [
    "# we iterate over episodes\n",
    "for e in range(n_episodes):\n",
    "    # we initialize the first state of the episode\n",
    "    current_state = env.reset()\n",
    "    current_state = current_state[0]\n",
    "    done = False\n",
    "\n",
    "    # sum the rewards that the agent gets from the environment\n",
    "    total_episode_reward = 0\n",
    "\n",
    "    for i in range(max_iter_episode):\n",
    "        # we sample a float from a uniform distribution over 0 and 1\n",
    "        # if the sampled float is less than the exploration proba\n",
    "        #     the agent selects arandom action\n",
    "        #else\n",
    "        #     he exploits his knowledge using the bellman equation\n",
    "    \n",
    "        if np.random.uniform(0,1) < exploration_proba:\n",
    "            action = env.action_space.sample()\n",
    "        else:\n",
    "            action = np.argmax(Q_table[current_state,:])\n",
    "\n",
    "        # The environment runs the chosen action and returns\n",
    "        # the next state, a reward and true if the episode is ended.\n",
    "        next_state, reward, done, _, _ = env.step(action)\n",
    "\n",
    "        # We update our Q-table using the Q-learning iteration\n",
    "        Q_table[current_state, action] = (1-lr)*Q_table[current_state, action] + lr*(reward + gamma*max(Q_table[next_state,:]))\n",
    "        total_episode_reward = total_episode_reward + reward\n",
    "        # If the episode is finished, we leave the for loop\n",
    "        if done:\n",
    "            break\n",
    "        current_state = next_state\n",
    "\n",
    "    # We update the exploration proba using exponential decay formula\n",
    "    exploration_proba = max(min_exploration_proba, np.exp(-exploration_decreasing_decay*e))\n",
    "    rewards_per_episode.append(total_episode_reward)"
   ]
  },
  {
   "cell_type": "markdown",
   "metadata": {},
   "source": [
    "**3. Testing:**"
   ]
  },
  {
   "cell_type": "code",
   "execution_count": 88,
   "metadata": {},
   "outputs": [
    {
     "name": "stdout",
     "output_type": "stream",
     "text": [
      "Mean reward per 1000 episodes\n",
      "1000 : mean episode reward:  0.036\n",
      "2000 : mean episode reward:  0.231\n",
      "3000 : mean episode reward:  0.45\n",
      "4000 : mean episode reward:  0.624\n",
      "5000 : mean episode reward:  0.693\n",
      "6000 : mean episode reward:  0.67\n",
      "7000 : mean episode reward:  0.683\n",
      "8000 : mean episode reward:  0.682\n",
      "9000 : mean episode reward:  0.657\n",
      "10000 : mean episode reward:  0.682\n"
     ]
    }
   ],
   "source": [
    "ps_size = 1000\n",
    "print(f\"Mean reward per {ps_size} episodes\")\n",
    "for i in range(int(n_episodes/ps_size)):\n",
    "    print((i+1)*1000, \": mean episode reward: \", \\\n",
    "          np.mean(rewards_per_episode[ps_size*i:ps_size*(i+1)]))"
   ]
  },
  {
   "cell_type": "code",
   "execution_count": 91,
   "metadata": {},
   "outputs": [
    {
     "data": {
      "text/plain": [
       "array([[0.58526136, 0.50505667, 0.4884826 , 0.49338984],\n",
       "       [0.40840329, 0.34154234, 0.33024599, 0.47870712],\n",
       "       [0.42178925, 0.44170914, 0.42226984, 0.45424909],\n",
       "       [0.24642001, 0.29195009, 0.33660252, 0.44258713],\n",
       "       [0.60794649, 0.4350159 , 0.44969407, 0.35416925],\n",
       "       [0.        , 0.        , 0.        , 0.        ],\n",
       "       [0.20538788, 0.19301332, 0.2358002 , 0.10694198],\n",
       "       [0.        , 0.        , 0.        , 0.        ],\n",
       "       [0.42418241, 0.44314333, 0.42257733, 0.64523714],\n",
       "       [0.4353566 , 0.69782982, 0.36059143, 0.44166379],\n",
       "       [0.62100963, 0.40957889, 0.43523118, 0.2338013 ],\n",
       "       [0.        , 0.        , 0.        , 0.        ],\n",
       "       [0.        , 0.        , 0.        , 0.        ],\n",
       "       [0.41595712, 0.59270378, 0.79210743, 0.51557045],\n",
       "       [0.7596728 , 0.90422247, 0.79680574, 0.79045736],\n",
       "       [0.        , 0.        , 0.        , 0.        ]])"
      ]
     },
     "execution_count": 91,
     "metadata": {},
     "output_type": "execute_result"
    }
   ],
   "source": [
    "Q_table"
   ]
  },
  {
   "cell_type": "code",
   "execution_count": 89,
   "metadata": {},
   "outputs": [
    {
     "name": "stdout",
     "output_type": "stream",
     "text": [
      "Finish game number: 1 - Reward: 1.0\n",
      "Finish game number: 2 - Reward: 1.0\n",
      "Finish game number: 3 - Reward: 1.0\n",
      "Finish game number: 4 - Reward: 1.0\n",
      "Finish game number: 5 - Reward: 1.0\n",
      "Finish game number: 6 - Reward: 1.0\n",
      "Finish game number: 7 - Reward: 1.0\n",
      "Finish game number: 8 - Reward: 0.0\n",
      "Finish game number: 9 - Reward: 1.0\n",
      "Finish game number: 10 - Reward: 1.0\n",
      "Finish all the games.\n"
     ]
    }
   ],
   "source": [
    "import gymnasium as gym\n",
    "import time\n",
    "\n",
    "env = gym.make(\"FrozenLake-v1\", render_mode=\"human\")\n",
    "observation, info = env.reset()\n",
    "e = 0\n",
    "\n",
    "while e < 10:\n",
    "   action = np.argmax(Q_table[observation,:])  # this is where you would insert your policy\n",
    "   observation, reward, terminated, truncated, info = env.step(action)\n",
    "\n",
    "   time.sleep(1)\n",
    "\n",
    "   if terminated or truncated:\n",
    "      observation, info = env.reset()\n",
    "      e += 1\n",
    "      print(f\"Finish game number: {e} - Reward: {reward}\")\n",
    "\n",
    "env.close()\n",
    "\n",
    "print(\"Finish all the games.\")"
   ]
  }
 ],
 "metadata": {
  "kernelspec": {
   "display_name": "env-rl",
   "language": "python",
   "name": "python3"
  },
  "language_info": {
   "codemirror_mode": {
    "name": "ipython",
    "version": 3
   },
   "file_extension": ".py",
   "mimetype": "text/x-python",
   "name": "python",
   "nbconvert_exporter": "python",
   "pygments_lexer": "ipython3",
   "version": "3.10.14"
  }
 },
 "nbformat": 4,
 "nbformat_minor": 2
}
